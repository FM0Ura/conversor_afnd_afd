{
 "cells": [
  {
   "cell_type": "code",
   "execution_count": 1,
   "id": "96878323",
   "metadata": {},
   "outputs": [],
   "source": [
    "from funcoes import *"
   ]
  },
  {
   "cell_type": "code",
   "execution_count": 2,
   "id": "f29ae780",
   "metadata": {},
   "outputs": [
    {
     "name": "stdout",
     "output_type": "stream",
     "text": [
      "--- AFND de Entrada Carregado ---\n",
      "Estados: {'A', 'F', 'B', 'G', 'E', 'D', 'C', 'H'}\n",
      "Estado Inicial: A\n",
      "Estados Finais: {'E'}\n",
      "Transições: {'A': {'h': {'C'}, '1': {'B'}, 'H': {'G'}}, 'B': {'1': {'B'}, '0': {'F'}}, 'C': {'0': {'D'}}, 'D': {'1': {'D'}, '0': {'H', 'E'}}, 'F': {'h': {'G'}}, 'G': {'1': {'H'}}, 'H': {'0': {'H'}, '1': {'E'}}}\n",
      "\n"
     ]
    }
   ],
   "source": [
    "# Definição dos arquivos e alfabeto\n",
    "arquivo_afnd_entrada = 'arquivo_entrada.txt'\n",
    "alfabeto_afnd = {'0', '1'}\n",
    "\n",
    "# 1. Processar AFND\n",
    "estados_afnd, transicoes_afnd, estado_inicial_afnd, estados_finais_afnd = processar_arquivo_entrada(arquivo_afnd_entrada)\n",
    "print(\"--- AFND de Entrada Carregado ---\")\n",
    "print(f\"Estados: {estados_afnd}\")\n",
    "print(f\"Estado Inicial: {estado_inicial_afnd}\")\n",
    "print(f\"Estados Finais: {estados_finais_afnd}\")\n",
    "print(f\"Transições: {transicoes_afnd}\\n\")"
   ]
  },
  {
   "cell_type": "code",
   "execution_count": 3,
   "id": "6ff4687d",
   "metadata": {},
   "outputs": [
    {
     "name": "stdout",
     "output_type": "stream",
     "text": [
      "Visualização do AFND de Entrada salva em 'output\\afnd_entrada.png'\n"
     ]
    }
   ],
   "source": [
    "# 2. Gerar visualização do AFND\n",
    "info_afnd_graphviz = {\n",
    "    'estados': list(estados_afnd),\n",
    "    'inicial': estado_inicial_afnd,\n",
    "    'finais': list(estados_finais_afnd),\n",
    "    'transicoes': transicoes_afnd\n",
    "}\n",
    "gerar_visualizacao_graphviz(info_afnd_graphviz, \"afnd_entrada\", \"AFND de Entrada\")"
   ]
  },
  {
   "cell_type": "code",
   "execution_count": 4,
   "id": "1324b3ab",
   "metadata": {},
   "outputs": [
    {
     "name": "stdout",
     "output_type": "stream",
     "text": [
      "--- AFD Convertido ---\n",
      "Estado Inicial: AC\n",
      "Estados Finais: {'EH', 'E'}\n",
      "Transições:\n",
      "  AC --0--> D\n",
      "  AC --1--> B\n",
      "  D --0--> EH\n",
      "  D --1--> D\n",
      "  B --0--> FG\n",
      "  B --1--> B\n",
      "  EH --0--> H\n",
      "  EH --1--> E\n",
      "  FG --1--> H\n",
      "  H --0--> H\n",
      "  H --1--> E\n"
     ]
    }
   ],
   "source": [
    "# 3. Converter para AFD\n",
    "afd_estados_set, afd_transicoes, estado_inicial_afd_set, afd_estados_finais_set = converter_afnd_para_afd(\n",
    "    estados_afnd, alfabeto_afnd, transicoes_afnd, estado_inicial_afnd, estados_finais_afnd\n",
    ")\n",
    "\n",
    "# Formatar nomes dos estados do AFD para saída\n",
    "map_nomes_afd = {s: formatar_nome_estado(s) for s in afd_estados_set}\n",
    "\n",
    "print(\"--- AFD Convertido ---\")\n",
    "print(f\"Estado Inicial: {map_nomes_afd[estado_inicial_afd_set]}\")\n",
    "print(f\"Estados Finais: { {map_nomes_afd[s] for s in afd_estados_finais_set} }\")\n",
    "print(\"Transições:\")\n",
    "for origem_set, transicoes in afd_transicoes.items():\n",
    "    for simbolo, destino_set in transicoes.items():\n",
    "        print(f\"  {map_nomes_afd[origem_set]} --{simbolo}--> {map_nomes_afd[destino_set]}\")"
   ]
  },
  {
   "cell_type": "code",
   "execution_count": 5,
   "id": "b9eb5bff",
   "metadata": {},
   "outputs": [
    {
     "name": "stdout",
     "output_type": "stream",
     "text": [
      "\n",
      "Arquivo de saída do AFD gerado em: 'output/afd_saida.txt'\n"
     ]
    }
   ],
   "source": [
    "# 4. Escrever arquivo de saída do AFD\n",
    "arquivo_afd_saida = 'output/afd_saida.txt'\n",
    "if not os.path.exists('output'):\n",
    "    os.makedirs('output')\n",
    "escrever_arquivo_afd(arquivo_afd_saida, afd_estados_set, afd_transicoes, estado_inicial_afd_set, afd_estados_finais_set)\n",
    "print(f\"\\nArquivo de saída do AFD gerado em: '{arquivo_afd_saida}'\")"
   ]
  },
  {
   "cell_type": "code",
   "execution_count": 6,
   "id": "d0363350",
   "metadata": {},
   "outputs": [
    {
     "name": "stdout",
     "output_type": "stream",
     "text": [
      "Visualização do AFD Convertido salva em 'output\\afd_convertido.png'\n",
      "\n",
      "Arquivo de palavras para teste criado: 'palavras.txt'\n",
      "Resultados do reconhecimento de palavras salvos em: 'output/resultado_palavras.txt'\n"
     ]
    }
   ],
   "source": [
    "# 5. Gerar visualização do AFD\n",
    "transicoes_afd_graphviz = {}\n",
    "for origem_set, transicoes_simbolo in afd_transicoes.items():\n",
    "    origem_nome = map_nomes_afd[origem_set]\n",
    "    transicoes_afd_graphviz[origem_nome] = {}\n",
    "    for simbolo, destino_set in transicoes_simbolo.items():\n",
    "        transicoes_afd_graphviz[origem_nome][simbolo] = {map_nomes_afd[destino_set]}\n",
    "\n",
    "info_afd_graphviz = {\n",
    "    'estados': list(map_nomes_afd.values()),\n",
    "    'inicial': map_nomes_afd[estado_inicial_afd_set],\n",
    "    'finais': [map_nomes_afd[s] for s in afd_estados_finais_set],\n",
    "    'transicoes': transicoes_afd_graphviz\n",
    "}\n",
    "gerar_visualizacao_graphviz(info_afd_graphviz, \"afd_convertido\", \"AFD Convertido\")\n",
    "\n",
    "# 6. Parte 2: Reconhecer palavras\n",
    "arquivo_palavras_entrada = 'palavras.txt'\n",
    "arquivo_palavras_saida = 'output/resultado_palavras.txt'\n",
    "\n",
    "# Criar um arquivo de exemplo para teste\n",
    "palavras_para_teste = [\"101\", \"00110\", \"1100\", \"010101\", \"1\", \"0\", \"\"]\n",
    "with open(arquivo_palavras_entrada, 'w') as f:\n",
    "    for p in palavras_para_teste:\n",
    "        f.write(p + '\\n')\n",
    "print(f\"\\nArquivo de palavras para teste criado: '{arquivo_palavras_entrada}'\")\n",
    "\n",
    "with open(arquivo_palavras_entrada, 'r') as f:\n",
    "    palavras = f.readlines()\n",
    "\n",
    "resultados = reconhecer_palavras(afd_transicoes, estado_inicial_afd_set, afd_estados_finais_set, palavras)\n",
    "\n",
    "with open(arquivo_palavras_saida, 'w', encoding='utf-8') as f:\n",
    "    for res in resultados:\n",
    "        f.write(res + '\\n')\n",
    "print(f\"Resultados do reconhecimento de palavras salvos em: '{arquivo_palavras_saida}'\")"
   ]
  }
 ],
 "metadata": {
  "kernelspec": {
   "display_name": ".venv",
   "language": "python",
   "name": "python3"
  },
  "language_info": {
   "codemirror_mode": {
    "name": "ipython",
    "version": 3
   },
   "file_extension": ".py",
   "mimetype": "text/x-python",
   "name": "python",
   "nbconvert_exporter": "python",
   "pygments_lexer": "ipython3",
   "version": "3.12.10"
  }
 },
 "nbformat": 4,
 "nbformat_minor": 5
}
